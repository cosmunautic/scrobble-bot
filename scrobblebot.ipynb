{
 "cells": [
  {
   "cell_type": "code",
   "execution_count": 1,
   "metadata": {
    "collapsed": true
   },
   "outputs": [],
   "source": [
    "import pylast\n",
    "import random\n",
    "import asyncio\n",
    "import aiohttp\n",
    "import json\n",
    "from discord import Game\n",
    "from discord.ext.commands import Bot"
   ]
  },
  {
   "cell_type": "code",
   "execution_count": null,
   "metadata": {
    "collapsed": true
   },
   "outputs": [],
   "source": [
    "API_KEY = \"a6fe39fa098111e980941a8e9a7cf598\"\n",
    "API_SECRET = \"189741a760592902ea7de9c39a53ab68\"\n",
    "BOT_PREFIX = (\"**\", \"Song #\")\n",
    "TOKEN = \"NTk5MDE5NTM4ODE4MDA3MDU1.XSfGyA.ZmD23e7VijZ7n_so0NNVwfhF7NE\""
   ]
  },
  {
   "cell_type": "code",
   "execution_count": null,
   "metadata": {},
   "outputs": [
    {
     "name": "stdout",
     "output_type": "stream",
     "text": [
      "Current servers:\n",
      "lastfm bot test space\n",
      "Logged in as scrobblebot\n"
     ]
    },
    {
     "name": "stderr",
     "output_type": "stream",
     "text": [
      "Ignoring exception in command None\n",
      "discord.ext.commands.errors.CommandNotFound: Command \"1\" is not found\n",
      "Ignoring exception in command None\n",
      "discord.ext.commands.errors.CommandNotFound: Command \"1\" is not found\n",
      "Ignoring exception in command None\n",
      "discord.ext.commands.errors.CommandNotFound: Command \"1\" is not found\n",
      "Ignoring exception in command None\n",
      "discord.ext.commands.errors.CommandNotFound: Command \"1\" is not found\n",
      "Ignoring exception in command None\n",
      "discord.ext.commands.errors.CommandNotFound: Command \"1\" is not found\n",
      "Ignoring exception in command None\n",
      "discord.ext.commands.errors.CommandNotFound: Command \"1\" is not found\n"
     ]
    },
    {
     "name": "stdout",
     "output_type": "stream",
     "text": [
      "Current servers:\n",
      "lastfm bot test space\n"
     ]
    },
    {
     "name": "stderr",
     "output_type": "stream",
     "text": [
      "Ignoring exception in command None\n",
      "discord.ext.commands.errors.CommandNotFound: Command \"1\" is not found\n",
      "Ignoring exception in command None\n",
      "discord.ext.commands.errors.CommandNotFound: Command \"1\" is not found\n",
      "Ignoring exception in command None\n",
      "discord.ext.commands.errors.CommandNotFound: Command \"1\" is not found\n"
     ]
    },
    {
     "name": "stdout",
     "output_type": "stream",
     "text": [
      "Current servers:\n",
      "lastfm bot test space\n"
     ]
    },
    {
     "name": "stderr",
     "output_type": "stream",
     "text": [
      "Ignoring exception in command None\n",
      "discord.ext.commands.errors.CommandNotFound: Command \"1\" is not found\n",
      "Ignoring exception in command None\n",
      "discord.ext.commands.errors.CommandNotFound: Command \"1\" is not found\n",
      "Ignoring exception in command None\n",
      "discord.ext.commands.errors.CommandNotFound: Command \"1\" is not found\n",
      "Ignoring exception in command None\n",
      "discord.ext.commands.errors.CommandNotFound: Command \"1\" is not found\n",
      "Ignoring exception in command None\n",
      "discord.ext.commands.errors.CommandNotFound: Command \"1\" is not found\n"
     ]
    },
    {
     "name": "stdout",
     "output_type": "stream",
     "text": [
      "Current servers:\n",
      "lastfm bot test space\n"
     ]
    }
   ],
   "source": [
    "import discord\n",
    "\n",
    "\n",
    "\n",
    "client = Bot(command_prefix=BOT_PREFIX)\n",
    "\n",
    "@client.command(name='8ball',\n",
    "                description=\"Answers a yes/no question.\",\n",
    "                brief=\"Answers from the beyond.\",\n",
    "                aliases=['eight_ball', 'eightball', '8-ball'],\n",
    "                pass_context=True)\n",
    "async def eight_ball(context):\n",
    "    possible_responses = [\n",
    "        'That is a resounding no',\n",
    "        'It is not looking likely',\n",
    "        'Too hard to tell',\n",
    "        'It is quite possible',\n",
    "        'Definitely',\n",
    "    ]\n",
    "    await client.say(random.choice(possible_responses) + \", \" + context.message.author.mention)\n",
    "\n",
    "\n",
    "@client.command()\n",
    "async def square(number):\n",
    "    squared_value = int(number) * int(number)\n",
    "    await client.say(str(number) + \" squared is \" + str(squared_value))\n",
    "\n",
    "\n",
    "@client.event\n",
    "async def on_ready():\n",
    "    await client.change_presence(game=Game(name=\"with humans\"))\n",
    "    print(\"Logged in as \" + client.user.name)\n",
    "\n",
    "\n",
    "@client.command()\n",
    "async def bitcoin():\n",
    "    url = 'https://api.coindesk.com/v1/bpi/currentprice/BTC.json'\n",
    "    async with aiohttp.ClientSession() as session:  # Async HTTP request\n",
    "        raw_response = await session.get(url)\n",
    "        response = await raw_response.text()\n",
    "        response = json.loads(response)\n",
    "        await client.say(\"Bitcoin price is: $\" + response['bpi']['USD']['rate'])\n",
    "\n",
    "\n",
    "async def list_servers():\n",
    "    await client.wait_until_ready()\n",
    "    while not client.is_closed:\n",
    "        print(\"Current servers:\")\n",
    "        for server in client.servers:\n",
    "            print(server.name)\n",
    "        await asyncio.sleep(600)\n",
    "\n",
    "client.loop.create_task(list_servers())\n",
    "client.run(TOKEN)"
   ]
  },
  {
   "cell_type": "code",
   "execution_count": null,
   "metadata": {},
   "outputs": [],
   "source": [
    "client = discord.Client()\n",
    "\n",
    "@client.event\n",
    "async def on_message(message):\n",
    "    # we do not want the bot to reply to itself\n",
    "    #if message.author == client.user:\n",
    "     #   return\n",
    "\n",
    "    if message.content.startswith('!hello'):\n",
    "        msg = 'Hello {0.author.mention}'.format(message)\n",
    "        await client.send_message(message.channel, msg)\n",
    "\n",
    "@client.event\n",
    "async def on_ready():\n",
    "    print('Logged in as')\n",
    "    print(client.user.name)\n",
    "    print(client.user.id)\n",
    "    print('------')\n",
    "\n",
    "client.run(TOKEN)"
   ]
  },
  {
   "cell_type": "code",
   "execution_count": null,
   "metadata": {},
   "outputs": [],
   "source": [
    "client.close()"
   ]
  },
  {
   "cell_type": "code",
   "execution_count": null,
   "metadata": {
    "collapsed": true
   },
   "outputs": [],
   "source": [
    "\n",
    "# In order to perform a write operation you need to authenticate yourself\n",
    "username = \"cosmunautic\"\n",
    "password_hash = pylast.md5(\"Pikachu*37\")\n",
    "\n",
    "network = pylast.LastFMNetwork(api_key=API_KEY, api_secret=API_SECRET,\n",
    "                         username=username, password_hash=password_hash)"
   ]
  },
  {
   "cell_type": "code",
   "execution_count": null,
   "metadata": {},
   "outputs": [],
   "source": [
    "name1=(\"Iron Maiden\", \"The Nomad\")\n",
    "track = network.get_track(\"Iron Maiden\", \"The Nomad\")\n",
    "\n",
    "print(track)\n",
    "\n",
    "track.love()"
   ]
  },
  {
   "cell_type": "code",
   "execution_count": null,
   "metadata": {
    "collapsed": true
   },
   "outputs": [],
   "source": [
    "import pylast"
   ]
  },
  {
   "cell_type": "code",
   "execution_count": null,
   "metadata": {
    "collapsed": true
   },
   "outputs": [],
   "source": []
  },
  {
   "cell_type": "code",
   "execution_count": null,
   "metadata": {
    "collapsed": true
   },
   "outputs": [],
   "source": [
    "client id: 599019538818007055\n",
    "bot token: NTk5MDE5NTM4ODE4MDA3MDU1.XSfGyA.ZmD23e7VijZ7n_so0NNVwfhF7NE"
   ]
  },
  {
   "cell_type": "code",
   "execution_count": null,
   "metadata": {
    "collapsed": true
   },
   "outputs": [],
   "source": [
    "Application name\tscrobblebot\n",
    "API key\ta6fe39fa098111e980941a8e9a7cf598\n",
    "Shared secret\t189741a760592902ea7de9c39a53ab68\n",
    "Registered to\tcosmunautic"
   ]
  }
 ],
 "metadata": {
  "kernelspec": {
   "display_name": "Python 3",
   "language": "python",
   "name": "python3"
  },
  "language_info": {
   "codemirror_mode": {
    "name": "ipython",
    "version": 3
   },
   "file_extension": ".py",
   "mimetype": "text/x-python",
   "name": "python",
   "nbconvert_exporter": "python",
   "pygments_lexer": "ipython3",
   "version": "3.6.3"
  }
 },
 "nbformat": 4,
 "nbformat_minor": 2
}
